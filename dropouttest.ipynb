{
  "nbformat": 4,
  "nbformat_minor": 0,
  "metadata": {
    "colab": {
      "name": "dropouttest.ipynb",
      "version": "0.3.2",
      "provenance": []
    },
    "kernelspec": {
      "name": "python2",
      "display_name": "Python 2"
    }
  },
  "cells": [
    {
      "cell_type": "markdown",
      "metadata": {
        "id": "view-in-github",
        "colab_type": "text"
      },
      "source": [
        "[View in Colaboratory](https://colab.research.google.com/github/Makbzuka/machine-learning-/blob/master/dropouttest.ipynb)"
      ]
    },
    {
      "metadata": {
        "id": "5992P_OskRtu",
        "colab_type": "code",
        "colab": {
          "base_uri": "https://localhost:8080/",
          "height": 1657
        },
        "outputId": "9fdf5c57-fd54-4004-9be1-509aa0975829"
      },
      "cell_type": "code",
      "source": [
        "from sklearn.model_selection import train_test_split\n",
        "import keras\n",
        "from keras.datasets import fashion_mnist \n",
        "from keras.models import Sequential,Input,Model\n",
        "from keras.layers import Dense , Dropout , Flatten\n",
        "from keras.layers import Conv2D,MaxPooling2D\n",
        "from keras.layers.normalization import BatchNormalization\n",
        "from keras.layers.advanced_activations import LeakyReLU\n",
        "from keras.utils import to_categorical\n",
        "import matplotlib.pyplot as plt\n",
        "import numpy as np \n",
        "%matplotlib inline\n",
        "\n",
        "(x_train,y_train), (x_test,y_test) = fashion_mnist.load_data()\n",
        "#print shape of datasets\n",
        "'''\n",
        "print x_train.shape\n",
        "print y_train.shape\n",
        "print x_test.shape\n",
        "print y_test.shape\n",
        "'''\n",
        "nclass = np.unique(y_train)\n",
        "#no of classes in y train\n",
        "print nclass\n",
        "print len(nclass)\n",
        "\n",
        "#turn the images into a vector\n",
        "x_train =x_train.reshape(-1,28,28,1)\n",
        "x_test = x_test.reshape(-1,28,28,1)\n",
        "x_test = x_test.astype('float32')\n",
        "x_train = x_train.astype('float32')\n",
        "x_train = x_train / 255\n",
        "x_test = x_test / 255\n",
        "y_1_test = to_categorical(y_test)\n",
        "y_1_train = to_categorical(y_train)\n",
        "\n",
        "train_x,valid_x,train_label,valid_label = train_test_split(x_train,y_1_train,test_size=0.2, random_state=13)\n",
        "\n",
        "print train_x.shape,valid_x.shape,train_label.shape,valid_label.shape\n",
        "\n",
        "batchsize = 64\n",
        "epoch = 12\n",
        "nclassess = 10\n",
        "\n",
        "test = Sequential()\n",
        "test.add(Conv2D(32, kernel_size=(3, 3),activation='linear',input_shape=(28,28,1),padding='same'))\n",
        "test.add(LeakyReLU(alpha=0.1))\n",
        "test.add(MaxPooling2D((2, 2),padding='same'))\n",
        "test.add(Conv2D(64, (3, 3), activation='linear',padding='same'))\n",
        "test.add(LeakyReLU(alpha=0.1))\n",
        "test.add(MaxPooling2D(pool_size=(2, 2),padding='same'))\n",
        "test.add(Conv2D(128, (3, 3), activation='linear',padding='same'))\n",
        "test.add(LeakyReLU(alpha=0.1))                  \n",
        "test.add(MaxPooling2D(pool_size=(2, 2),padding='same'))\n",
        "test.add(Flatten())\n",
        "test.add(Dense(128, activation='linear'))\n",
        "test.add(LeakyReLU(alpha=0.1))                  \n",
        "test.add(Dense(nclassess, activation='softmax'))\n",
        "test.compile(loss=keras.losses.categorical_crossentropy, optimizer=keras.optimizers.Adam(),metrics=['accuracy'])\n",
        "test.summary()\n",
        "data_train = test.fit(train_x,train_label,batch_size=batchsize,epochs=epoch,verbose=1,validation_data=(valid_x,valid_label))\n",
        "test_evaluation = test.evaluate(x_test,y_1_test,verbose=0)\n",
        "print(\"test loss:\",test_evaluation[0])\n",
        "print(\"test-accu ;\",test_evaluation[1])\n",
        "\n",
        "accuracy = data_train.history['acc']\n",
        "val_accuracy = data_train.history['val_acc']\n",
        "loss = data_train.history['loss']\n",
        "val_loss = data_train.history['val_loss']\n",
        "epochs = range(len(accuracy))\n",
        "plt.plot(epochs, accuracy, 'bo', label='Training accuracy')\n",
        "plt.plot(epochs, val_accuracy, 'b', label='Validation accuracy')\n",
        "plt.title('Training and validation accuracy')\n",
        "plt.legend()\n",
        "plt.figure()\n",
        "plt.plot(epochs, loss, 'bo', label='Training loss')\n",
        "plt.plot(epochs, val_loss, 'b', label='Validation loss')\n",
        "plt.title('Training and validation loss')\n",
        "plt.legend()\n",
        "plt.show()"
      ],
      "execution_count": 21,
      "outputs": [
        {
          "output_type": "stream",
          "text": [
            "[0 1 2 3 4 5 6 7 8 9]\n",
            "10\n",
            "(48000, 28, 28, 1) (12000, 28, 28, 1) (48000, 10) (12000, 10)\n",
            "_________________________________________________________________\n",
            "Layer (type)                 Output Shape              Param #   \n",
            "=================================================================\n",
            "conv2d_49 (Conv2D)           (None, 28, 28, 32)        320       \n",
            "_________________________________________________________________\n",
            "leaky_re_lu_65 (LeakyReLU)   (None, 28, 28, 32)        0         \n",
            "_________________________________________________________________\n",
            "max_pooling2d_49 (MaxPooling (None, 14, 14, 32)        0         \n",
            "_________________________________________________________________\n",
            "conv2d_50 (Conv2D)           (None, 14, 14, 64)        18496     \n",
            "_________________________________________________________________\n",
            "leaky_re_lu_66 (LeakyReLU)   (None, 14, 14, 64)        0         \n",
            "_________________________________________________________________\n",
            "max_pooling2d_50 (MaxPooling (None, 7, 7, 64)          0         \n",
            "_________________________________________________________________\n",
            "conv2d_51 (Conv2D)           (None, 7, 7, 128)         73856     \n",
            "_________________________________________________________________\n",
            "leaky_re_lu_67 (LeakyReLU)   (None, 7, 7, 128)         0         \n",
            "_________________________________________________________________\n",
            "max_pooling2d_51 (MaxPooling (None, 4, 4, 128)         0         \n",
            "_________________________________________________________________\n",
            "flatten_17 (Flatten)         (None, 2048)              0         \n",
            "_________________________________________________________________\n",
            "dense_33 (Dense)             (None, 128)               262272    \n",
            "_________________________________________________________________\n",
            "leaky_re_lu_68 (LeakyReLU)   (None, 128)               0         \n",
            "_________________________________________________________________\n",
            "dense_34 (Dense)             (None, 10)                1290      \n",
            "=================================================================\n",
            "Total params: 356,234\n",
            "Trainable params: 356,234\n",
            "Non-trainable params: 0\n",
            "_________________________________________________________________\n",
            "Train on 48000 samples, validate on 12000 samples\n",
            "Epoch 1/12\n",
            " 2624/48000 [>.............................] - ETA: 1:37 - loss: 1.2547 - acc: 0.5286"
          ],
          "name": "stdout"
        },
        {
          "output_type": "stream",
          "text": [
            "48000/48000 [==============================] - 99s 2ms/step - loss: 0.4689 - acc: 0.8277 - val_loss: 0.3309 - val_acc: 0.8817\n",
            "Epoch 2/12\n",
            "11520/48000 [======>.......................] - ETA: 1:08 - loss: 0.3042 - acc: 0.8905"
          ],
          "name": "stdout"
        },
        {
          "output_type": "stream",
          "text": [
            "48000/48000 [==============================] - 95s 2ms/step - loss: 0.2871 - acc: 0.8958 - val_loss: 0.2723 - val_acc: 0.8994\n",
            "Epoch 3/12\n",
            "14976/48000 [========>.....................] - ETA: 1:01 - loss: 0.2514 - acc: 0.9051"
          ],
          "name": "stdout"
        },
        {
          "output_type": "stream",
          "text": [
            "48000/48000 [==============================] - 94s 2ms/step - loss: 0.2427 - acc: 0.9109 - val_loss: 0.2582 - val_acc: 0.9027\n",
            "Epoch 4/12\n",
            "16320/48000 [=========>....................] - ETA: 57s - loss: 0.2075 - acc: 0.9234"
          ],
          "name": "stdout"
        },
        {
          "output_type": "stream",
          "text": [
            "48000/48000 [==============================] - 93s 2ms/step - loss: 0.2087 - acc: 0.9225 - val_loss: 0.2350 - val_acc: 0.9136\n",
            "Epoch 5/12\n",
            "16832/48000 [=========>....................] - ETA: 56s - loss: 0.1824 - acc: 0.9336"
          ],
          "name": "stdout"
        },
        {
          "output_type": "stream",
          "text": [
            "48000/48000 [==============================] - 93s 2ms/step - loss: 0.1869 - acc: 0.9309 - val_loss: 0.2555 - val_acc: 0.9099\n",
            "Epoch 6/12\n",
            "16960/48000 [=========>....................] - ETA: 59s - loss: 0.1684 - acc: 0.9371"
          ],
          "name": "stdout"
        },
        {
          "output_type": "stream",
          "text": [
            "48000/48000 [==============================] - 96s 2ms/step - loss: 0.1633 - acc: 0.9395 - val_loss: 0.2321 - val_acc: 0.9182\n",
            "Epoch 7/12\n",
            "17024/48000 [=========>....................] - ETA: 56s - loss: 0.1312 - acc: 0.9515"
          ],
          "name": "stdout"
        },
        {
          "output_type": "stream",
          "text": [
            "48000/48000 [==============================] - 92s 2ms/step - loss: 0.1392 - acc: 0.9485 - val_loss: 0.2374 - val_acc: 0.9189\n",
            "Epoch 8/12\n",
            "17088/48000 [=========>....................] - ETA: 55s - loss: 0.1125 - acc: 0.9592"
          ],
          "name": "stdout"
        },
        {
          "output_type": "stream",
          "text": [
            "48000/48000 [==============================] - 95s 2ms/step - loss: 0.1207 - acc: 0.9555 - val_loss: 0.2739 - val_acc: 0.9133\n",
            "Epoch 9/12\n",
            "17088/48000 [=========>....................] - ETA: 57s - loss: 0.0939 - acc: 0.9655"
          ],
          "name": "stdout"
        },
        {
          "output_type": "stream",
          "text": [
            "48000/48000 [==============================] - 93s 2ms/step - loss: 0.1026 - acc: 0.9622 - val_loss: 0.2435 - val_acc: 0.9224\n",
            "Epoch 10/12\n",
            "17024/48000 [=========>....................] - ETA: 56s - loss: 0.0788 - acc: 0.9708"
          ],
          "name": "stdout"
        },
        {
          "output_type": "stream",
          "text": [
            "48000/48000 [==============================] - 92s 2ms/step - loss: 0.0855 - acc: 0.9680 - val_loss: 0.2552 - val_acc: 0.9226\n",
            "Epoch 11/12\n",
            "17024/48000 [=========>....................] - ETA: 55s - loss: 0.0693 - acc: 0.9753"
          ],
          "name": "stdout"
        },
        {
          "output_type": "stream",
          "text": [
            "48000/48000 [==============================] - 91s 2ms/step - loss: 0.0738 - acc: 0.9729 - val_loss: 0.2707 - val_acc: 0.9209\n",
            "Epoch 12/12\n",
            "17024/48000 [=========>....................] - ETA: 55s - loss: 0.0539 - acc: 0.9808"
          ],
          "name": "stdout"
        },
        {
          "output_type": "stream",
          "text": [
            "48000/48000 [==============================] - 91s 2ms/step - loss: 0.0630 - acc: 0.9766 - val_loss: 0.2881 - val_acc: 0.9222\n",
            "('test loss:', 0.3115019622206688)\n",
            "('test-accu ;', 0.9188)\n"
          ],
          "name": "stdout"
        },
        {
          "output_type": "display_data",
          "data": {
            "image/png": "[encoded data removed]",
            "text/plain": [
              "<matplotlib.figure.Figure at 0x7f33dc313f10>"
            ]
          },
          "metadata": {
            "tags": []
          }
        },
        {
          "output_type": "display_data",
          "data": {
            "image/png": "[encoded data removed]",
            "text/plain": [
              "<matplotlib.figure.Figure at 0x7f33dbe3ac50>"
            ]
          },
          "metadata": {
            "tags": []
          }
        }
      ]
    },
    {
      "metadata": {
        "id": "FcaSlA20CEC3",
        "colab_type": "code",
        "colab": {
          "base_uri": "https://localhost:8080/",
          "height": 1744
        },
        "outputId": "6514d477-54af-44ab-82e2-8b36d4e6a037"
      },
      "cell_type": "code",
      "source": [
        "#add dropout function to improve accuracy\n",
        "test = Sequential()\n",
        "test.add(Conv2D(32, kernel_size=(3, 3),activation='linear',input_shape=(28,28,1),padding='same'))\n",
        "test.add(LeakyReLU(alpha=0.1))\n",
        "test.add(MaxPooling2D((2, 2),padding='same'))\n",
        "test.add(Dropout(0.25))\n",
        "test.add(Conv2D(64, (3, 3), activation='linear',padding='same'))\n",
        "test.add(LeakyReLU(alpha=0.1))\n",
        "test.add(MaxPooling2D(pool_size=(2, 2),padding='same'))\n",
        "test.add(Dropout(0.25))\n",
        "test.add(Conv2D(128, (3, 3), activation='linear',padding='same'))\n",
        "test.add(LeakyReLU(alpha=0.1))                  \n",
        "test.add(MaxPooling2D(pool_size=(2, 2),padding='same'))\n",
        "test.add(Dropout(0.4))\n",
        "test.add(Flatten())\n",
        "test.add(Dense(128, activation='linear'))\n",
        "test.add(LeakyReLU(alpha=0.1)) \n",
        "test.add(Dropout(0.3))\n",
        "test.add(Dense(nclassess, activation='softmax'))\n",
        "test.compile(loss=keras.losses.categorical_crossentropy, optimizer=keras.optimizers.Adam(),metrics=['accuracy'])\n",
        "test.summary()\n",
        "data_train = test.fit(train_x,train_label,batch_size=batchsize,epochs=epoch,verbose=1,validation_data=(valid_x,valid_label))\n",
        "test_evaluation = test.evaluate(x_test,y_1_test,verbose=0)\n",
        "print(\"test loss:\",test_evaluation[0])\n",
        "print(\"test-accu ;\",test_evaluation[1])\n",
        "\n",
        "accuracy = data_train.history['acc']\n",
        "val_accuracy = data_train.history['val_acc']\n",
        "loss = data_train.history['loss']\n",
        "val_loss = data_train.history['val_loss']\n",
        "epochs = range(len(accuracy))\n",
        "plt.plot(epochs, accuracy, 'bo', label='Training accuracy')\n",
        "plt.plot(epochs, val_accuracy, 'b', label='Validation accuracy')\n",
        "plt.title('Training and validation accuracy')\n",
        "plt.legend()\n",
        "plt.figure()\n",
        "plt.plot(epochs, loss, 'bo', label='Training loss')\n",
        "plt.plot(epochs, val_loss, 'b', label='Validation loss')\n",
        "plt.title('Training and validation loss')\n",
        "plt.legend()\n",
        "plt.show()"
      ],
      "execution_count": 19,
      "outputs": [
        {
          "output_type": "stream",
          "text": [
            "_________________________________________________________________\n",
            "Layer (type)                 Output Shape              Param #   \n",
            "=================================================================\n",
            "conv2d_43 (Conv2D)           (None, 28, 28, 32)        320       \n",
            "_________________________________________________________________\n",
            "leaky_re_lu_57 (LeakyReLU)   (None, 28, 28, 32)        0         \n",
            "_________________________________________________________________\n",
            "max_pooling2d_43 (MaxPooling (None, 14, 14, 32)        0         \n",
            "_________________________________________________________________\n",
            "dropout_1 (Dropout)          (None, 14, 14, 32)        0         \n",
            "_________________________________________________________________\n",
            "conv2d_44 (Conv2D)           (None, 14, 14, 64)        18496     \n",
            "_________________________________________________________________\n",
            "leaky_re_lu_58 (LeakyReLU)   (None, 14, 14, 64)        0         \n",
            "_________________________________________________________________\n",
            "max_pooling2d_44 (MaxPooling (None, 7, 7, 64)          0         \n",
            "_________________________________________________________________\n",
            "dropout_2 (Dropout)          (None, 7, 7, 64)          0         \n",
            "_________________________________________________________________\n",
            "conv2d_45 (Conv2D)           (None, 7, 7, 128)         73856     \n",
            "_________________________________________________________________\n",
            "leaky_re_lu_59 (LeakyReLU)   (None, 7, 7, 128)         0         \n",
            "_________________________________________________________________\n",
            "max_pooling2d_45 (MaxPooling (None, 4, 4, 128)         0         \n",
            "_________________________________________________________________\n",
            "dropout_3 (Dropout)          (None, 4, 4, 128)         0         \n",
            "_________________________________________________________________\n",
            "flatten_15 (Flatten)         (None, 2048)              0         \n",
            "_________________________________________________________________\n",
            "dense_29 (Dense)             (None, 128)               262272    \n",
            "_________________________________________________________________\n",
            "leaky_re_lu_60 (LeakyReLU)   (None, 128)               0         \n",
            "_________________________________________________________________\n",
            "dropout_4 (Dropout)          (None, 128)               0         \n",
            "_________________________________________________________________\n",
            "dense_30 (Dense)             (None, 10)                1290      \n",
            "=================================================================\n",
            "Total params: 356,234\n",
            "Trainable params: 356,234\n",
            "Non-trainable params: 0\n",
            "_________________________________________________________________\n",
            "Train on 48000 samples, validate on 12000 samples\n",
            "Epoch 1/12\n",
            " 2176/48000 [>.............................] - ETA: 1:43 - loss: 1.7218 - acc: 0.3552"
          ],
          "name": "stdout"
        },
        {
          "output_type": "stream",
          "text": [
            "48000/48000 [==============================] - 110s 2ms/step - loss: 0.6017 - acc: 0.7753 - val_loss: 0.3805 - val_acc: 0.8595\n",
            "Epoch 2/12\n",
            "11328/48000 [======>.......................] - ETA: 1:19 - loss: 0.4053 - acc: 0.8490"
          ],
          "name": "stdout"
        },
        {
          "output_type": "stream",
          "text": [
            "48000/48000 [==============================] - 110s 2ms/step - loss: 0.3834 - acc: 0.8581 - val_loss: 0.3190 - val_acc: 0.8808\n",
            "Epoch 3/12\n",
            "14784/48000 [========>.....................] - ETA: 1:10 - loss: 0.3378 - acc: 0.8768"
          ],
          "name": "stdout"
        },
        {
          "output_type": "stream",
          "text": [
            "48000/48000 [==============================] - 109s 2ms/step - loss: 0.3343 - acc: 0.8764 - val_loss: 0.2948 - val_acc: 0.8890\n",
            "Epoch 4/12\n",
            "16128/48000 [=========>....................] - ETA: 1:08 - loss: 0.3084 - acc: 0.8844"
          ],
          "name": "stdout"
        },
        {
          "output_type": "stream",
          "text": [
            "48000/48000 [==============================] - 108s 2ms/step - loss: 0.3055 - acc: 0.8863 - val_loss: 0.2648 - val_acc: 0.9008\n",
            "Epoch 5/12\n",
            "16640/48000 [=========>....................] - ETA: 1:05 - loss: 0.2916 - acc: 0.8923"
          ],
          "name": "stdout"
        },
        {
          "output_type": "stream",
          "text": [
            "48000/48000 [==============================] - 104s 2ms/step - loss: 0.2849 - acc: 0.8954 - val_loss: 0.2456 - val_acc: 0.9086\n",
            "Epoch 6/12\n",
            "16832/48000 [=========>....................] - ETA: 1:04 - loss: 0.2734 - acc: 0.8963"
          ],
          "name": "stdout"
        },
        {
          "output_type": "stream",
          "text": [
            "48000/48000 [==============================] - 104s 2ms/step - loss: 0.2716 - acc: 0.8989 - val_loss: 0.2391 - val_acc: 0.9113\n",
            "Epoch 7/12\n",
            "16896/48000 [=========>....................] - ETA: 1:05 - loss: 0.2631 - acc: 0.9008"
          ],
          "name": "stdout"
        },
        {
          "output_type": "stream",
          "text": [
            "48000/48000 [==============================] - 102s 2ms/step - loss: 0.2623 - acc: 0.9022 - val_loss: 0.2306 - val_acc: 0.9148\n",
            "Epoch 8/12\n",
            "16896/48000 [=========>....................] - ETA: 1:00 - loss: 0.2524 - acc: 0.9045"
          ],
          "name": "stdout"
        },
        {
          "output_type": "stream",
          "text": [
            "48000/48000 [==============================] - 98s 2ms/step - loss: 0.2492 - acc: 0.9061 - val_loss: 0.2312 - val_acc: 0.9150\n",
            "Epoch 9/12\n",
            "17024/48000 [=========>....................] - ETA: 1:00 - loss: 0.2361 - acc: 0.9101"
          ],
          "name": "stdout"
        },
        {
          "output_type": "stream",
          "text": [
            "48000/48000 [==============================] - 99s 2ms/step - loss: 0.2416 - acc: 0.9097 - val_loss: 0.2235 - val_acc: 0.9173\n",
            "Epoch 10/12\n",
            "16960/48000 [=========>....................] - ETA: 59s - loss: 0.2350 - acc: 0.9108"
          ],
          "name": "stdout"
        },
        {
          "output_type": "stream",
          "text": [
            "48000/48000 [==============================] - 97s 2ms/step - loss: 0.2335 - acc: 0.9121 - val_loss: 0.2199 - val_acc: 0.9207\n",
            "Epoch 11/12\n",
            "16960/48000 [=========>....................] - ETA: 58s - loss: 0.2204 - acc: 0.9194"
          ],
          "name": "stdout"
        },
        {
          "output_type": "stream",
          "text": [
            "48000/48000 [==============================] - 98s 2ms/step - loss: 0.2283 - acc: 0.9151 - val_loss: 0.2181 - val_acc: 0.9194\n",
            "Epoch 12/12\n",
            "16960/48000 [=========>....................] - ETA: 1:02 - loss: 0.2206 - acc: 0.9179"
          ],
          "name": "stdout"
        },
        {
          "output_type": "stream",
          "text": [
            "48000/48000 [==============================] - 100s 2ms/step - loss: 0.2235 - acc: 0.9171 - val_loss: 0.2083 - val_acc: 0.9256\n",
            "('test loss:', 0.22508907862901686)\n",
            "('test-accu ;', 0.9188)\n"
          ],
          "name": "stdout"
        },
        {
          "output_type": "display_data",
          "data": {
            "image/png": "[encoded data removed]",
            "text/plain": [
              "<matplotlib.figure.Figure at 0x7f33dcdda610>"
            ]
          },
          "metadata": {
            "tags": []
          }
        },
        {
          "output_type": "display_data",
          "data": {
            "image/png": "[encoded data removed]",
            "text/plain": [
              "<matplotlib.figure.Figure at 0x7f33dc71b8d0>"
            ]
          },
          "metadata": {
            "tags": []
          }
        }
      ]
    },
    {
      "metadata": {
        "id": "G8kQAfc4kOhv",
        "colab_type": "code",
        "colab": {
          "base_uri": "https://localhost:8080/",
          "height": 34
        },
        "outputId": "841b875b-8fca-4c93-ae57-c003a419b9bb"
      },
      "cell_type": "code",
      "source": [
        "print \"hello colab\""
      ],
      "execution_count": 0,
      "outputs": [
        {
          "output_type": "stream",
          "text": [
            "hello colab\n"
          ],
          "name": "stdout"
        }
      ]
    }
  ]
}